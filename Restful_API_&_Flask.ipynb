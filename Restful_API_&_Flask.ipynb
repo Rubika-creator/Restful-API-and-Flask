{
  "cells": [
    {
      "cell_type": "markdown",
      "metadata": {
        "id": "3umJAP2jLDra"
      },
      "source": [
        "#Theoretical Questions\n"
      ]
    },
    {
      "cell_type": "markdown",
      "metadata": {
        "id": "EX3WUiKWLHpi"
      },
      "source": [
        "\n",
        "\n",
        "```\n",
        "# This is formatted as code\n",
        "```\n",
        "\n",
        "1.What is a RESTful API?\n",
        ">> RESTful API is an Application Programming Interface (API) that follows the principles of REST (Representational State Transfer), an architectural style for designing networked applications."
      ]
    },
    {
      "cell_type": "markdown",
      "metadata": {
        "id": "XFwOiKsxLuQ4"
      },
      "source": [
        "2.Explain the concept of API specification\n",
        ">>\n",
        "An API specification is a detailed, structured document that defines how an API works and how clients can interact with it.\n",
        "\n",
        "Key points:\n",
        "\n",
        "Describes endpoints - Lists all available resources (URLs) and what each one does.\n",
        "\n",
        "Defines methods - Specifies which HTTP methods (GET, POST, PUT, DELETE, etc.) are supported.\n",
        "\n",
        "Explains request/response format - Includes headers, query parameters, request bodies, and response structures.\n",
        "\n",
        "Lists status codes - Defines which HTTP status codes (e.g., 200 OK, 201 Created, 400 Bad Request) are returned and under what conditions.\n",
        "\n",
        "Acts as a contract - Serves as an agreement between API providers and consumers, ensuring consistent communication."
      ]
    },
    {
      "cell_type": "markdown",
      "metadata": {
        "id": "qrmIEyWqRWo5"
      },
      "source": [
        "3. What is Flask, and why is it popular for building APIs?\n",
        ">>Flask is a lightweight and flexible Python web framework used to build web applications and APIs. It is based on the WSGI (Web Server Gateway Interface) standard and follows a minimal design philosophy, giving developers the freedom to structure their projects as they like.\n",
        "\n",
        "Why Flask is popular for building APIs:\n",
        "\n",
        "Lightweight & Minimal - Provides only the essentials, making it easy to start quickly.\n",
        "\n",
        "Flexibility - Developers have full control over how to structure routes, middleware, and responses.\n",
        "\n",
        "Built-in support for RESTful APIs - Simplifies handling of HTTP methods (GET, POST, PUT, DELETE).\n",
        "\n",
        "Large ecosystem - Extensions like Flask-RESTful and Flask-CORS make API development easier.\n",
        "\n",
        "Easy to learn - Clean and straightforward syntax, good for beginners and rapid prototyping.\n",
        "\n",
        "Integration friendly - Works well with databases, authentication systems, and other libraries."
      ]
    },
    {
      "cell_type": "markdown",
      "metadata": {
        "id": "NoSXNSNgRvdn"
      },
      "source": [
        "4.  What is routing in Flask?\n",
        ">> Routing in Flask is the process of mapping a URL path to a specific function (called a view function) that should handle the request.\n",
        "\n",
        "You define routes in Flask using the @app.route() decorator.\n",
        "\n",
        "When a user visits that URL, Flask calls the associated function and returns its response."
      ]
    },
    {
      "cell_type": "markdown",
      "metadata": {
        "id": "pWeBWu8GSRhf"
      },
      "source": [
        "5. How do you create a simple Flask application?\n",
        "\n",
        " Install Flask\n",
        "\n",
        "Before starting, you need to have Flask installed. This is done using Python's package manager:\n",
        "\n",
        "pip install flask\n",
        "\n",
        " Import Flask\n",
        "\n",
        "In your Python script, import the Flask class:\n",
        "\n",
        "from flask import Flask\n",
        "\n",
        " Create a Flask Application Object\n",
        "\n",
        "You need to create an instance of the Flask class. This instance represents your web application:\n",
        "\n",
        "app = Flask(__name__)\n",
        "\n",
        "\n",
        "__name__ helps Flask determine the root path of your application.\n",
        "\n",
        " Define Routes\n",
        "\n",
        "Routes map URLs to Python functions. You define them using the @app.route() decorator:\n",
        "\n",
        "@app.route('/')\n",
        "def home():\n",
        "    return \"Hello, World!\"\n",
        "\n",
        "\n",
        "Here, / is the URL path (homepage).\n",
        "\n",
        "home() is the function that runs when a user visits /.\n",
        "\n",
        "The function returns a response (in this case, a simple string).\n",
        "\n",
        " Run the Application\n",
        "\n",
        "Finally, you need to tell Flask to run the application:\n",
        "\n",
        "if __name__ == '__main__':\n",
        "    app.run(debug=True)\n",
        "\n",
        "\n",
        "debug=True enables automatic reloading and detailed error messages.\n",
        "\n",
        "By default, the app runs on http://127.0.0.1:5000."
      ]
    },
    {
      "cell_type": "markdown",
      "metadata": {
        "id": "02wyy7FyTEzO"
      },
      "source": [
        "6. What are HTTP methods used in RESTful APIs?\n",
        ">> GET → Read\n",
        "\n",
        "POST → Create\n",
        "\n",
        "PUT → Replace/Update fully\n",
        "\n",
        "PATCH → Update partially\n",
        "\n",
        "DELETE → Remove"
      ]
    },
    {
      "cell_type": "markdown",
      "metadata": {
        "id": "HAsk4sMdXl5I"
      },
      "source": [
        "7. What is the purpose of the @app.route() decorator in Flask?\n",
        ">> The @app.route() decorator in Flask is used to define a route, which maps a specific URL (or endpoint) to a Python function that should be executed when that URL is accessed"
      ]
    },
    {
      "cell_type": "markdown",
      "metadata": {
        "id": "F1EH4cqRYAxf"
      },
      "source": [
        "8. What is the difference between GET and POST HTTP methods?\n",
        ">> GET Retrieve data from the server.\n",
        "POST Send data to the server to create/update a resource.\n",
        "GET Sent in the URL as query parameters (e.g., ?id=1).\n",
        "POST Sent in the request body.\n",
        "GET Data is visible in the URL → less secure.\n",
        "POST Data is hidden in the body → more secure for sensitive info.\n",
        "GET Can be cached by browsers\n",
        "POST Usually not cached"
      ]
    },
    {
      "cell_type": "markdown",
      "metadata": {
        "id": "xUTzVP5lZCII"
      },
      "source": [
        "9.How do you handle errors in Flask APIs?\n",
        ">> Using below methods errors can be handled\n",
        "\n",
        "abort() → quickly stop request with a status code\n",
        "\n",
        "@app.errorhandler() → create custom error responses\n",
        "\n",
        "try-except → catch runtime errors and return meaningful messages"
      ]
    },
    {
      "cell_type": "markdown",
      "metadata": {
        "id": "Ad17ltqcZyeF"
      },
      "source": [
        "10. How do you connect Flask to a SQL database?\n",
        ">> To connect Flask to a SQL database:\n",
        "\n",
        "Choose a database (SQLite, MySQL, PostgreSQL).\n",
        "\n",
        "Use a database driver (e.g., sqlite3 for SQLite) or an ORM like SQLAlchemy.\n",
        "\n",
        "Configure the database URI in the Flask app.\n",
        "\n",
        "Create models (tables) if using an ORM.\n",
        "\n",
        "Interact with the database by executing queries (driver) or using ORM methods.\n",
        "\n",
        "Close connections after each request (if using a driver).\n"
      ]
    },
    {
      "cell_type": "markdown",
      "metadata": {
        "id": "jiQR09pFaTlN"
      },
      "source": [
        "11. What is the role of Flask-SQLAlchemy?\n",
        ">> Flask-SQLAlchemy is an extension for Flask that simplifies working with SQL databases. Its main roles are:\n",
        "\n",
        "ORM (Object Relational Mapping): Lets you interact with database tables as Python classes instead of writing raw SQL.\n",
        "\n",
        "Database Abstraction: Works with multiple SQL databases (SQLite, MySQL, PostgreSQL) with minimal code changes.\n",
        "\n",
        "Session Management: Handles connections and transactions automatically.\n",
        "\n",
        "Simplifies Queries: Provides easy methods for creating, reading, updating, and deleting records."
      ]
    },
    {
      "cell_type": "markdown",
      "metadata": {
        "id": "98bmyuHsafu-"
      },
      "source": [
        "12. What are Flask blueprints, and how are they useful?\n",
        ">> Blueprints are a way to organize a Flask application into smaller, reusable modules. Instead of defining all routes and views in a single file, you can split them into multiple files or components.And they are useful because of\n",
        "\n",
        "Modularity: Break a large app into smaller, manageable components.\n",
        "\n",
        "Reusability: Blueprints can be reused across different projects.\n",
        "\n",
        "Namespace Support: Avoid route conflicts using URL prefixes.\n",
        "\n",
        "Organized Code: Keeps routes, templates, and static files organized per module."
      ]
    },
    {
      "cell_type": "markdown",
      "metadata": {
        "id": "0HMZVcERa7nD"
      },
      "source": [
        "13.  What is the purpose of Flask's request object?\n",
        ">> The request object in Flask represents the incoming HTTP request from a client. It gives your Flask app access to all the data sent by the client, such as form data, query parameters, headers, cookies, and JSON payloads.\n",
        "Its uses are\n",
        "Access Query Parameters\n",
        "Access form Data\n",
        "Acess JSON Data\n",
        "Access Headers & Cookies"
      ]
    },
    {
      "cell_type": "markdown",
      "metadata": {
        "id": "2WIFNsEZcPIk"
      },
      "source": [
        "14.  How do you create a RESTful API endpoint using Flask?\n",
        ">> To create a RESTful API endpoint in Flask, define a route using @app.route(), specify the allowed HTTP methods (GET, POST, etc.), and return a JSON response using jsonify(). Use the request object to access client data for POST or PUT requests."
      ]
    },
    {
      "cell_type": "markdown",
      "metadata": {
        "id": "BjPEIeJ0cgxp"
      },
      "source": [
        "15. What is the purpose of Flask's jsonify() function?\n",
        ">> The jsonify() function is used to convert Python data structures (like dictionaries or lists) into JSON format, which is the standard format for RESTful API responses. It also sets the correct Content-Type: application/json header automatically."
      ]
    },
    {
      "cell_type": "markdown",
      "metadata": {
        "id": "fu30_9alc0GZ"
      },
      "source": [
        "16.  Explain Flask’s url_for() function\n",
        ">> The url_for() function is used to dynamically generate URLs for Flask routes based on the function name rather than hardcoding the URL. This makes your app more maintainable because route URLs can change without breaking links."
      ]
    },
    {
      "cell_type": "markdown",
      "metadata": {
        "id": "-R0BDJF6dRaC"
      },
      "source": [
        "17. How does Flask handle static files (CSS, JavaScript, etc.)\n",
        ">> Flask serves static files (CSS, JS, images) from a static folder. You reference them in templates using url_for('static', filename='file_name'), which generates the correct URL dynamically."
      ]
    },
    {
      "cell_type": "markdown",
      "metadata": {
        "id": "q1BHqPWKdoNw"
      },
      "source": [
        "18. What is an API specification, and how does it help in building a Flask API?\n",
        ">> An API specification is a detailed, structured document that defines how an API works and how clients can interact with it.\n",
        "\n",
        "It helps in\n",
        "Clear Contract: Developers know exactly how to interact with the API.\n",
        "Consistency: Ensures all endpoints follow a standard structure.\n",
        "Faster Development: Frontend and backend teams can work in parallel using the spec.\n",
        "Documentation: Serves as a reference for API usage.\n",
        "Testing: Easier to write automated tests based on the spec."
      ]
    },
    {
      "cell_type": "markdown",
      "metadata": {
        "id": "UbTrzWXqeNBm"
      },
      "source": [
        "19. What are HTTP status codes, and why are they important in a Flask API?\n",
        ">>  HTTP status codes are three-digit numbers sent by the server in response to a client’s request, indicating the outcome of that request.\n",
        "\n",
        "1xx → Informational\n",
        "\n",
        "2xx → Success (e.g., 200 OK, 201 Created)\n",
        "\n",
        "3xx → Redirection\n",
        "\n",
        "4xx → Client errors (e.g., 400 Bad Request, 404 Not Found)\n",
        "\n",
        "5xx → Server errors (e.g., 500 Internal Server Error)\n",
        "\n",
        "Importance in a Flask API\n",
        "\n",
        "Communicate Outcome: Let the client know if the request succeeded or failed.\n",
        "\n",
        "Error Handling: Helps frontend or API consumers handle errors correctly.\n",
        "\n",
        "Standards Compliance: RESTful APIs rely on status codes to follow HTTP standards.\n",
        "\n",
        "Debugging & Logging: Easier to track issues using status codes."
      ]
    },
    {
      "cell_type": "markdown",
      "metadata": {
        "id": "cYx3ecUtei6-"
      },
      "source": [
        "20. How do you handle POST requests in Flask?\n",
        ">> To handle POST requests in Flask, define a route with methods=['POST'], read incoming data via request, process it, and return a JSON response."
      ]
    },
    {
      "cell_type": "markdown",
      "metadata": {
        "id": "_Jr7EFxnZC74"
      },
      "source": [
        "21. How would you secure a Flask API?\n",
        ">> Secure a Flask API by implementing authentication, HTTPS, input validation, rate limiting, proper error handling, and secure headers, ensuring only authorized users can safely access it."
      ]
    },
    {
      "cell_type": "markdown",
      "metadata": {
        "id": "72vcZvM1fN3u"
      },
      "source": [
        "22.  What is the significance of the Flask-RESTful extension?\n",
        ">> Flask-RESTful streamlines building REST APIs by providing resource-based routing, request parsing, and structured JSON responses, making API development cleaner and faster."
      ]
    },
    {
      "cell_type": "markdown",
      "metadata": {
        "id": "ERipf_IvfflV"
      },
      "source": [
        "23. What is the role of Flask’s session object?\n",
        ">> The session object in Flask is used to store data that is specific to a user across multiple requests. It allows you to keep track of user information, like login status or preferences, between requests, without storing it on the client directly.\n",
        "\n",
        "Key roles of Flask’s session object:\n",
        "\n",
        "Stores user-specific data across multiple requests.\n",
        "Uses signed cookies for secure client-side storage.\n",
        "Provides easy access like a dictionary (session['key'] = value).\n",
        "Persists data until session expires or is cleared, useful for login or preferences."
      ]
    },
    {
      "cell_type": "markdown",
      "metadata": {
        "id": "v4cc6d5dsvx1"
      },
      "source": [
        "#Practical Questions\n"
      ]
    },
    {
      "cell_type": "code",
      "execution_count": null,
      "metadata": {
        "colab": {
          "base_uri": "https://localhost:8080/"
        },
        "id": "SzC__y5ns8Rb",
        "outputId": "d46ee58a-e79a-432e-d0f2-a0f052a7a06d"
      },
      "outputs": [
        {
          "name": "stdout",
          "output_type": "stream",
          "text": [
            "Requirement already satisfied: flask in /usr/local/lib/python3.12/dist-packages (3.1.2)\n",
            "Requirement already satisfied: blinker>=1.9.0 in /usr/local/lib/python3.12/dist-packages (from flask) (1.9.0)\n",
            "Requirement already satisfied: click>=8.1.3 in /usr/local/lib/python3.12/dist-packages (from flask) (8.2.1)\n",
            "Requirement already satisfied: itsdangerous>=2.2.0 in /usr/local/lib/python3.12/dist-packages (from flask) (2.2.0)\n",
            "Requirement already satisfied: jinja2>=3.1.2 in /usr/local/lib/python3.12/dist-packages (from flask) (3.1.6)\n",
            "Requirement already satisfied: markupsafe>=2.1.1 in /usr/local/lib/python3.12/dist-packages (from flask) (3.0.2)\n",
            "Requirement already satisfied: werkzeug>=3.1.0 in /usr/local/lib/python3.12/dist-packages (from flask) (3.1.3)\n",
            " * Serving Flask app '__main__'\n",
            " * Debug mode: on\n"
          ]
        },
        {
          "name": "stderr",
          "output_type": "stream",
          "text": [
            "INFO:werkzeug:\u001b[31m\u001b[1mWARNING: This is a development server. Do not use it in a production deployment. Use a production WSGI server instead.\u001b[0m\n",
            " * Running on http://127.0.0.1:5000\n",
            "INFO:werkzeug:\u001b[33mPress CTRL+C to quit\u001b[0m\n",
            "INFO:werkzeug: * Restarting with watchdog (inotify)\n"
          ]
        }
      ],
      "source": [
        "#1 How do you create a basic Flask application?\n",
        "!pip install flask\n",
        "\n",
        "from flask import Flask\n",
        "\n",
        "\n",
        "app = Flask(__name__)\n",
        "\n",
        "\n",
        "@app.route('/')\n",
        "def home():\n",
        "    return \"Hello, Flask! This is the Home Page.\"\n",
        "\n",
        "\n",
        "@app.route('/about')\n",
        "def about():\n",
        "    return \"Welcome to the About Page!\"\n",
        "\n",
        "\n",
        "@app.route('/contact')\n",
        "def contact():\n",
        "    return \"This is the Contact Page.\"\n",
        "\n",
        "\n",
        "if __name__ == '__main__':\n",
        "    app.run(debug=True)\n"
      ]
    },
    {
      "cell_type": "code",
      "execution_count": null,
      "metadata": {
        "colab": {
          "base_uri": "https://localhost:8080/"
        },
        "id": "WwnWbnfQtYqM",
        "outputId": "005a84da-8758-4263-abba-b4ed8a403ddb"
      },
      "outputs": [
        {
          "name": "stdout",
          "output_type": "stream",
          "text": [
            " * Serving Flask app '__main__'\n",
            " * Debug mode: on\n"
          ]
        },
        {
          "name": "stderr",
          "output_type": "stream",
          "text": [
            "INFO:werkzeug:\u001b[31m\u001b[1mWARNING: This is a development server. Do not use it in a production deployment. Use a production WSGI server instead.\u001b[0m\n",
            " * Running on http://127.0.0.1:5000\n",
            "INFO:werkzeug:\u001b[33mPress CTRL+C to quit\u001b[0m\n",
            "INFO:werkzeug: * Restarting with watchdog (inotify)\n"
          ]
        }
      ],
      "source": [
        "# 2 How do you serve static files like images or CSS in Flask?\n",
        "\n",
        "# This code assumes you have a 'static' folder in the same directory as this file\n",
        "# containing 'style.css' and 'image.png', and a 'templates' folder with 'index.html'\n",
        "# that references these static files using url_for.\n",
        "\n",
        "from flask import Flask, render_template\n",
        "\n",
        "app = Flask(__name__)\n",
        "\n",
        "@app.route('/')\n",
        "def home():\n",
        "    # In a real application, you would have an index.html file in a 'templates' folder\n",
        "    # that uses url_for('static', filename='...') to reference static files.\n",
        "    # For demonstration purposes, we'll return a simple string.\n",
        "    return \"Check the theoretical questions for how to reference static files in HTML.\"\n",
        "\n",
        "\n",
        "if __name__ == '__main__':\n",
        "    # Note: Running Flask apps directly in Colab with app.run() might not be ideal\n",
        "    # for interactive web development due to how Colab environments work.\n",
        "    # This code is mainly for demonstrating the concept of serving static files.\n",
        "    app.run(debug=True)"
      ]
    },
    {
      "cell_type": "code",
      "execution_count": null,
      "metadata": {
        "id": "oQlPfUpUu4s0"
      },
      "outputs": [],
      "source": [
        "#3 How do you define different routes with different HTTP methods in Flask?\n",
        "from flask import Flask, request\n",
        "\n",
        "app = Flask(__name__)\n",
        "\n",
        "# A route that only accepts GET requests\n",
        "@app.route('/get-example', methods=['GET'])\n",
        "def get_example():\n",
        "    return \"This is a GET request!\"\n",
        "\n",
        "# A route that only accepts POST requests\n",
        "@app.route('/post-example', methods=['POST'])\n",
        "def post_example():\n",
        "    data = request.form.get(\"name\")  # reading form data\n",
        "    return f\"Hello, {data}! You sent a POST request.\"\n",
        "\n",
        "# A route that accepts both GET and POST\n",
        "@app.route('/both', methods=['GET', 'POST'])\n",
        "def both_example():\n",
        "    if request.method == 'GET':\n",
        "        return \"You used GET on /both\"\n",
        "    elif request.method == 'POST':\n",
        "        return \"You used POST on /both\"\n",
        "\n",
        "# A route with PUT and DELETE\n",
        "@app.route('/update-delete', methods=['PUT', 'DELETE'])\n",
        "def update_delete_example():\n",
        "    if request.method == 'PUT':\n",
        "        return \"Resource updated using PUT!\"\n",
        "    elif request.method == 'DELETE':\n",
        "        return \"Resource deleted using DELETE!\"\n",
        "\n",
        "if __name__ == '__main__':\n",
        "    app.run(debug=True)\n",
        "\n"
      ]
    },
    {
      "cell_type": "code",
      "execution_count": null,
      "metadata": {
        "id": "_aLN0hq8vFnD"
      },
      "outputs": [],
      "source": [
        "# 4 How do you render HTML templates in Flask?\n",
        "app.py\n",
        "templates/\n",
        "    index.html\n",
        "    about.html\n",
        "from flask import Flask, render_template\n",
        "\n",
        "app = Flask(__name__)\n",
        "\n",
        "# Home route\n",
        "@app.route('/')\n",
        "def home():\n",
        "    return render_template(\"index.html\")\n",
        "\n",
        "# About route\n",
        "@app.route('/about')\n",
        "def about():\n",
        "    return render_template(\"about.html\")\n",
        "\n",
        "if __name__ == '__main__':\n",
        "    app.run(debug=True)\n",
        "<!DOCTYPE html>\n",
        "<html>\n",
        "<head>\n",
        "    <title>Home Page</title>\n",
        "</head>\n",
        "<body>\n",
        "    <h1>Welcome to Flask!</h1>\n",
        "    <p>This is the home page.</p>\n",
        "    <a href=\"/about\">Go to About Page</a>\n",
        "</body>\n",
        "</html>\n",
        "<!DOCTYPE html>\n",
        "<html>\n",
        "<head>\n",
        "    <title>About Page</title>\n",
        "</head>\n",
        "<body>\n",
        "    <h1>About Us</h1>\n",
        "    <p>This page is rendered using Flask templates.</p>\n",
        "    <a href=\"/\">Back to Home</a>\n",
        "</body>\n",
        "</html>\n"
      ]
    },
    {
      "cell_type": "code",
      "execution_count": null,
      "metadata": {
        "id": "BPjq1xBNvoqV"
      },
      "outputs": [],
      "source": [
        "# 5  How can you generate URLs for routes in Flask using url_for?\n",
        "from flask import Flask, render_template, url_for\n",
        "\n",
        "app = Flask(__name__)\n",
        "\n",
        "@app.route('/')\n",
        "def home():\n",
        "    # generate URL for 'about' route\n",
        "    about_url = url_for('about')\n",
        "    return f\"Home Page → <a href='{about_url}'>Go to About</a>\"\n",
        "\n",
        "@app.route('/about')\n",
        "def about():\n",
        "    # generate URL for 'home' route\n",
        "    home_url = url_for('home')\n",
        "    return f\"About Page → <a href='{home_url}'>Back to Home</a>\"\n",
        "\n",
        "# Example with dynamic route parameter\n",
        "@app.route('/user/<username>')\n",
        "def profile(username):\n",
        "    return f\"Hello, {username}!\"\n",
        "\n",
        "@app.route('/profile-link')\n",
        "def profile_link():\n",
        "    # generate URL for profile route with parameter\n",
        "    return url_for('profile', username='Ruby')\n",
        "\n",
        "if __name__ == '__main__':\n",
        "    app.run(debug=True)\n"
      ]
    },
    {
      "cell_type": "code",
      "execution_count": null,
      "metadata": {
        "id": "ATs-oYwuvv0q"
      },
      "outputs": [],
      "source": [
        "# 6  How do you handle forms in Flask?\n",
        "from flask import Flask, render_template, request\n",
        "\n",
        "app = Flask(__name__)\n",
        "\n",
        "@app.route('/')\n",
        "def home():\n",
        "    return render_template(\"form.html\")\n",
        "\n",
        "@app.route('/submit', methods=['POST'])\n",
        "def submit():\n",
        "    name = request.form.get(\"name\")\n",
        "    email = request.form.get(\"email\")\n",
        "    return f\"Received: Name = {name}, Email = {email}\"\n",
        "\n",
        "if __name__ == '__main__':\n",
        "    app.run(debug=True)\n",
        "<!DOCTYPE html>\n",
        "<html>\n",
        "<head>\n",
        "    <title>Flask Form Example</title>\n",
        "</head>\n",
        "<body>\n",
        "    <h2>Submit Your Info</h2>\n",
        "    <form action=\"{{ url_for('submit') }}\" method=\"POST\">\n",
        "        <label>Name:</label>\n",
        "        <input type=\"text\" name=\"name\"><br><br>\n",
        "\n",
        "        <label>Email:</label>\n",
        "        <input type=\"email\" name=\"email\"><br><br>\n",
        "\n",
        "        <button type=\"submit\">Submit</button>\n",
        "    </form>\n",
        "</body>\n",
        "</html>\n",
        "@app.route('/json', methods=['POST'])\n",
        "def json_example():\n",
        "    data = request.json\n",
        "    return {\"you_sent\": data}\n"
      ]
    },
    {
      "cell_type": "code",
      "execution_count": null,
      "metadata": {
        "id": "EvW6k0otwDDq"
      },
      "outputs": [],
      "source": [
        "# 7 How can you validate form data in Flask?\n",
        "from flask import Flask, request, render_template\n",
        "\n",
        "app = Flask(__name__)\n",
        "\n",
        "@app.route('/')\n",
        "def form():\n",
        "    return render_template(\"form.html\")\n",
        "\n",
        "@app.route('/submit', methods=['POST'])\n",
        "def submit():\n",
        "    name = request.form.get(\"name\")\n",
        "    email = request.form.get(\"email\")\n",
        "\n",
        "    errors = []\n",
        "    if not name:\n",
        "        errors.append(\"Name is required.\")\n",
        "    if not email or \"@\" not in email:\n",
        "        errors.append(\"Valid email is required.\")\n",
        "\n",
        "    if errors:\n",
        "        return f\"Errors: {', '.join(errors)}\"\n",
        "    return f\"Success! Name = {name}, Email = {email}\"\n",
        "\n",
        "if __name__ == '__main__':\n",
        "    app.run(debug=True)\n"
      ]
    },
    {
      "cell_type": "code",
      "execution_count": null,
      "metadata": {
        "id": "B_OB0FtvwOEa"
      },
      "outputs": [],
      "source": [
        "# 8 How do you manage sessions in Flask?\n",
        "from flask import Flask, session, redirect, url_for, request\n",
        "\n",
        "app = Flask(__name__)\n",
        "app.secret_key = \"supersecretkey\"  # Required for sessions\n",
        "\n",
        "@app.route('/')\n",
        "def index():\n",
        "    if \"username\" in session:\n",
        "        return f\"Logged in as {session['username']} <br><a href='/logout'>Logout</a>\"\n",
        "    return \"You are not logged in <br><a href='/login'>Login</a>\"\n",
        "\n",
        "@app.route('/login', methods=['GET', 'POST'])\n",
        "def login():\n",
        "    if request.method == 'POST':\n",
        "        session['username'] = request.form['username']  # store in session\n",
        "        return redirect(url_for('index'))\n",
        "    return '''\n",
        "        <form method=\"post\">\n",
        "            <input type=\"text\" name=\"username\" placeholder=\"Enter username\">\n",
        "            <input type=\"submit\" value=\"Login\">\n",
        "        </form>\n",
        "    '''\n",
        "\n",
        "@app.route('/logout')\n",
        "def logout():\n",
        "    session.pop('username', None)  # remove from session\n",
        "    return redirect(url_for('index'))\n",
        "\n",
        "if __name__ == '__main__':\n",
        "    app.run(debug=True)\n",
        "session['username'] = \"Ruby\"\n",
        "\n",
        "if \"username\" in session:\n",
        "    print(session['username'])\n",
        "session.pop('username', None)\n"
      ]
    },
    {
      "cell_type": "code",
      "execution_count": null,
      "metadata": {
        "id": "Ktp4We8pwkJ9"
      },
      "outputs": [],
      "source": [
        "# 9  How do you redirect to a different route in Flask?\n",
        "from flask import Flask, redirect, url_for\n",
        "\n",
        "app = Flask(__name__)\n",
        "\n",
        "@app.route('/')\n",
        "def home():\n",
        "    return \"This is the Home Page. <a href='/login'>Go to Login</a>\"\n",
        "\n",
        "@app.route('/login')\n",
        "def login():\n",
        "    # After login, redirect user to dashboard\n",
        "    return redirect(url_for('dashboard'))\n",
        "\n",
        "@app.route('/dashboard')\n",
        "def dashboard():\n",
        "    return \"Welcome to your Dashboard!\"\n",
        "\n",
        "if __name__ == '__main__':\n",
        "    app.run(debug=True)\n"
      ]
    },
    {
      "cell_type": "code",
      "execution_count": null,
      "metadata": {
        "id": "h1vyB0qjw1bl"
      },
      "outputs": [],
      "source": [
        "# 10 How do you handle errors in Flask (e.g., 404)?\n",
        "<!DOCTYPE html>\n",
        "<html>\n",
        "<head><title>Page Not Found</title></head>\n",
        "<body>\n",
        "    <h1>404 - Page Not Found</h1>\n",
        "    <p>Oops! The page you’re looking for doesn’t exist.</p>\n",
        "    <a href=\"{{ url_for('home') }}\">Go Back Home</a>\n",
        "</body>\n",
        "</html>\n",
        "<!DOCTYPE html>\n",
        "<html>\n",
        "<head><title>Server Error</title></head>\n",
        "<body>\n",
        "    <h1>500 - Internal Server Error</h1>\n",
        "    <p>Something went wrong on our side. Please try again later.</p>\n",
        "    <a href=\"{{ url_for('home') }}\">Go Back Home</a>\n",
        "</body>\n",
        "</html>\n"
      ]
    },
    {
      "cell_type": "code",
      "execution_count": null,
      "metadata": {
        "id": "y9aO58wRxDAD"
      },
      "outputs": [],
      "source": [
        "#11 How do you structure a Flask app using Blueprints?\n",
        "myapp/\n",
        "│\n",
        "├── app.py\n",
        "├── auth/\n",
        "│   ├── __init__.py\n",
        "│   └── routes.py\n",
        "└── main/\n",
        "    ├── __init__.py\n",
        "    └── routes.py\n",
        "from flask import Blueprint, render_template\n",
        "\n",
        "auth = Blueprint('auth', __name__)\n",
        "\n",
        "@auth.route('/login')\n",
        "def login():\n",
        "    return \"Login Page\"\n",
        "\n",
        "@auth.route('/register')\n",
        "def register():\n",
        "    return \"Register Page\"\n",
        "from flask import Blueprint\n",
        "\n",
        "main = Blueprint('main', __name__)\n",
        "\n",
        "@main.route('/')\n",
        "def home():\n",
        "    return \"Welcome to the Home Page!\"\n",
        "\n",
        "@main.route('/about')\n",
        "def about():\n",
        "    return \"About Page\"\n",
        "from flask import Flask\n",
        "from auth.routes import auth\n",
        "from main.routes import main\n",
        "\n",
        "app = Flask(__name__)\n",
        "\n",
        "# Register Blueprints\n",
        "app.register_blueprint(auth, url_prefix=\"/auth\")\n",
        "app.register_blueprint(main)\n",
        "\n",
        "if __name__ == '__main__':\n",
        "    app.run(debug=True)\n"
      ]
    },
    {
      "cell_type": "code",
      "execution_count": null,
      "metadata": {
        "id": "vnhMZn6ixQ60"
      },
      "outputs": [],
      "source": [
        "#12 How do you define a custom Jinja filter in Flask?\n",
        "from flask import Flask, render_template\n",
        "\n",
        "app = Flask(__name__)\n",
        "\n",
        "# Define a custom filter\n",
        "def reverse_string(s):\n",
        "    return s[::-1]\n",
        "\n",
        "# Register the filter with Jinja\n",
        "app.jinja_env.filters['reverse'] = reverse_string\n",
        "\n",
        "@app.route('/')\n",
        "def home():\n",
        "    name = \"Flask\"\n",
        "    return render_template(\"index.html\", name=name)\n",
        "\n",
        "if __name__ == '__main__':\n",
        "    app.run(debug=True)\n",
        "<!DOCTYPE html>\n",
        "<html>\n",
        "<head><title>Custom Filter Example</title></head>\n",
        "<body>\n",
        "    <h1>Original: {{ name }}</h1>\n",
        "    <h2>Reversed: {{ name|reverse }}</h2>\n",
        "</body>\n",
        "</html>\n"
      ]
    },
    {
      "cell_type": "code",
      "execution_count": null,
      "metadata": {
        "id": "NXuDvNijxdum"
      },
      "outputs": [],
      "source": [
        "#13  How can you redirect with query parameters in Flask?\n",
        "from flask import Flask, redirect, url_for, request\n",
        "\n",
        "app = Flask(__name__)\n",
        "\n",
        "@app.route('/')\n",
        "def home():\n",
        "    # Redirect to /search with query params\n",
        "    return redirect(url_for('search', q='flask', page=2))\n",
        "\n",
        "@app.route('/search')\n",
        "def search():\n",
        "    query = request.args.get('q')      # get ?q=value\n",
        "    page = request.args.get('page')    # get ?page=value\n",
        "    return f\"Search results for: {query}, Page: {page}\"\n",
        "\n",
        "if __name__ == '__main__':\n",
        "    app.run(debug=True)\n",
        "/search?q=flask&page=2\n"
      ]
    },
    {
      "cell_type": "code",
      "execution_count": null,
      "metadata": {
        "colab": {
          "background_save": true,
          "base_uri": "https://localhost:8080/"
        },
        "id": "gfy8HF7lyc_j",
        "outputId": "93f1fd40-a27d-4ecb-ff01-df04052c33a8"
      },
      "outputs": [
        {
          "name": "stdout",
          "output_type": "stream",
          "text": [
            " * Serving Flask app '__main__'\n",
            " * Debug mode: on\n"
          ]
        },
        {
          "name": "stderr",
          "output_type": "stream",
          "text": [
            "INFO:werkzeug:\u001b[31m\u001b[1mWARNING: This is a development server. Do not use it in a production deployment. Use a production WSGI server instead.\u001b[0m\n",
            " * Running on http://127.0.0.1:5000\n",
            "INFO:werkzeug:\u001b[33mPress CTRL+C to quit\u001b[0m\n",
            "INFO:werkzeug: * Restarting with watchdog (inotify)\n"
          ]
        }
      ],
      "source": [
        "#14 How do you return JSON responses in Flask?\n",
        "from flask import Flask, jsonify\n",
        "\n",
        "app = Flask(__name__)\n",
        "\n",
        "@app.route('/api/data')\n",
        "def get_data():\n",
        "    data = {\n",
        "        \"name\": \"Flask\",\n",
        "        \"version\": 2,\n",
        "        \"features\": [\"routing\", \"templates\", \"json\"]\n",
        "    }\n",
        "    return jsonify(data)\n",
        "\n",
        "if __name__ == '__main__':\n",
        "    app.run(debug=True)\n",
        "{\n",
        "  \"features\": [\"routing\", \"templates\", \"json\"],\n",
        "  \"name\": \"Flask\",\n",
        "  \"version\": 2\n",
        "}\n",
        "@app.route('/api/simple')\n",
        "def simple():\n",
        "    return {\"message\": \"Hello, JSON!\"}\n",
        "@app.route('/api/error')\n",
        "def error():\n",
        "    return jsonify({\"error\": \"Something went wrong\"}), 400\n"
      ]
    },
    {
      "cell_type": "code",
      "execution_count": null,
      "metadata": {
        "colab": {
          "base_uri": "https://localhost:8080/",
          "height": 106
        },
        "id": "QFTfG1CwytbB",
        "outputId": "f55e898c-e721-4a47-901d-2a39ed5e61fc"
      },
      "outputs": [
        {
          "ename": "IndentationError",
          "evalue": "unexpected unindent (ipython-input-3515745597.py, line 16)",
          "output_type": "error",
          "traceback": [
            "\u001b[0;36m  File \u001b[0;32m\"/tmp/ipython-input-3515745597.py\"\u001b[0;36m, line \u001b[0;32m16\u001b[0m\n\u001b[0;31m    def book_chapter(title, number):\u001b[0m\n\u001b[0m                                    ^\u001b[0m\n\u001b[0;31mIndentationError\u001b[0m\u001b[0;31m:\u001b[0m unexpected unindent\n"
          ]
        }
      ],
      "source": [
        "#15 How do you capture URL parameters in Flask?\n",
        "from flask import Flask# simple Parameter\n",
        "\n",
        "app = Flask(__name__)\n",
        "\n",
        "@app.route('/user/<username>')\n",
        "def profile(username):\n",
        "    return f\"Hello, {username}!\"\n",
        "\n",
        "if __name__ == '__main__':\n",
        "    app.run(debug=True)\n",
        "@app.route('/post/<int:post_id>')#Parameter with type\n",
        "def show_post(post_id):\n",
        "    return f\"Post ID is {post_id}\"\n",
        "    @app.route('/book/<string:title>/chapter/<int:number>')#Multiple Parameters\n",
        "def book_chapter(title, number):\n",
        "    return f\"Book: {title}, Chapter: {number}\"\n",
        "    @app.route('/path/<path:subpath>')#Path Parameter\n",
        "def show_path(subpath):\n",
        "    return f\"Subpath: {subpath}\"\n",
        "\n",
        "\n",
        "\n"
      ]
    }
  ],
  "metadata": {
    "colab": {
      "provenance": []
    },
    "kernelspec": {
      "display_name": "Python 3",
      "name": "python3"
    },
    "language_info": {
      "name": "python"
    }
  },
  "nbformat": 4,
  "nbformat_minor": 0
}